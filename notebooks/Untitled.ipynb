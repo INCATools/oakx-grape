{
 "cells": [
  {
   "cell_type": "markdown",
   "id": "e7abcd9a",
   "metadata": {},
   "source": [
    "# Getting Started with `oakx-grape`"
   ]
  },
  {
   "cell_type": "markdown",
   "id": "36735160",
   "metadata": {},
   "source": [
    "The `oakx-grape` plugin implements a wrapper for the `grape` graph analysis package for the Ontology Access Kit (OAK).\n",
    "\n",
    "There are two choices of selector:\n",
    "\n",
    "1. `grape:kgobo:{go,pato,uberon,...}`\n",
    "2. `grape:OAK-SELECTOR`\n",
    "\n",
    "with the first pattern, the `grape` graph is loaded from KG-OBO, and the OAK adapter is loaded from semantic sql.\n",
    "\n",
    "With the second, you can use most existing existing OAK adapters:\n",
    "\n",
    "- sqlite/semsql\n",
    "- obo\n",
    "- rdf/owl\n",
    "\n",
    "(Note: you CANNOT use a backend like ubergraph or bioportal that relies on API calls.)"
   ]
  },
  {
   "cell_type": "markdown",
   "id": "6a14e13c",
   "metadata": {},
   "source": [
    "In this example, we'll load the PHENIO application ontology and run commands on it to demonstrate how `oakx-grape` works best.\n",
    "\n",
    "First, ensure that [OAK is installed as per its documentation](https://incatools.github.io/ontology-access-kit/intro/tutorial01.html).\n",
    "\n",
    "Next, install `oakx-grape` with `pip`:"
   ]
  },
  {
   "cell_type": "code",
   "execution_count": 1,
   "id": "932cfc44",
   "metadata": {},
   "outputs": [
    {
     "name": "stdout",
     "output_type": "stream",
     "text": [
      "Requirement already satisfied: oakx-grape in /home/harry/oakx-grape/.venv/lib/python3.9/site-packages (0.1.0)\n",
      "Requirement already satisfied: scipy<2.0.0,>=1.9.0 in /home/harry/oakx-grape/.venv/lib/python3.9/site-packages (from oakx-grape) (1.9.3)\n",
      "Requirement already satisfied: bioregistry<0.6.0,>=0.5.136 in /home/harry/oakx-grape/.venv/lib/python3.9/site-packages (from oakx-grape) (0.5.143)\n",
      "Requirement already satisfied: oaklib<0.2.0,>=0.1.43 in /home/harry/oakx-grape/.venv/lib/python3.9/site-packages (from oakx-grape) (0.1.56)\n",
      "Requirement already satisfied: grape in /home/harry/oakx-grape/.venv/lib/python3.9/site-packages (from oakx-grape) (0.1.26)\n",
      "Requirement already satisfied: importlib<2.0.0,>=1.0.4 in /home/harry/oakx-grape/.venv/lib/python3.9/site-packages (from oakx-grape) (1.0.4)\n",
      "Requirement already satisfied: tox<4.0.0,>=3.25.1 in /home/harry/oakx-grape/.venv/lib/python3.9/site-packages (from oakx-grape) (3.27.1)\n",
      "Requirement already satisfied: click<9.0.0,>=8.1.3 in /home/harry/oakx-grape/.venv/lib/python3.9/site-packages (from oakx-grape) (8.1.3)\n",
      "Requirement already satisfied: ensmallen==0.8.28 in /home/harry/oakx-grape/.venv/lib/python3.9/site-packages (from oakx-grape) (0.8.28)\n",
      "Requirement already satisfied: cache_decorator>=2.1.11 in /home/harry/oakx-grape/.venv/lib/python3.9/site-packages (from ensmallen==0.8.28->oakx-grape) (2.1.13)\n",
      "Requirement already satisfied: tqdm in /home/harry/oakx-grape/.venv/lib/python3.9/site-packages (from ensmallen==0.8.28->oakx-grape) (4.64.1)\n",
      "Requirement already satisfied: toml~=0.10.0 in /home/harry/oakx-grape/.venv/lib/python3.9/site-packages (from ensmallen==0.8.28->oakx-grape) (0.10.2)\n",
      "Requirement already satisfied: userinput>=1.0.19 in /home/harry/oakx-grape/.venv/lib/python3.9/site-packages (from ensmallen==0.8.28->oakx-grape) (1.0.20)\n",
      "Requirement already satisfied: downloaders>=1.0.15 in /home/harry/oakx-grape/.venv/lib/python3.9/site-packages (from ensmallen==0.8.28->oakx-grape) (1.0.15)\n",
      "Requirement already satisfied: compress_json>=1.0.7 in /home/harry/oakx-grape/.venv/lib/python3.9/site-packages (from ensmallen==0.8.28->oakx-grape) (1.0.8)\n",
      "Requirement already satisfied: pandas in /home/harry/oakx-grape/.venv/lib/python3.9/site-packages (from ensmallen==0.8.28->oakx-grape) (1.5.2)\n",
      "Requirement already satisfied: environments_utils>=1.0.4 in /home/harry/oakx-grape/.venv/lib/python3.9/site-packages (from ensmallen==0.8.28->oakx-grape) (1.0.9)\n",
      "Requirement already satisfied: py-cpuinfo in /home/harry/oakx-grape/.venv/lib/python3.9/site-packages (from ensmallen==0.8.28->oakx-grape) (9.0.0)\n",
      "Requirement already satisfied: more-click in /home/harry/oakx-grape/.venv/lib/python3.9/site-packages (from bioregistry<0.6.0,>=0.5.136->oakx-grape) (0.1.1)\n",
      "Requirement already satisfied: pystow>=0.1.13 in /home/harry/oakx-grape/.venv/lib/python3.9/site-packages (from bioregistry<0.6.0,>=0.5.136->oakx-grape) (0.4.7)\n",
      "Requirement already satisfied: curies in /home/harry/oakx-grape/.venv/lib/python3.9/site-packages (from bioregistry<0.6.0,>=0.5.136->oakx-grape) (0.4.0)\n",
      "Requirement already satisfied: requests in /home/harry/oakx-grape/.venv/lib/python3.9/site-packages (from bioregistry<0.6.0,>=0.5.136->oakx-grape) (2.28.1)\n",
      "Requirement already satisfied: pydantic in /home/harry/oakx-grape/.venv/lib/python3.9/site-packages (from bioregistry<0.6.0,>=0.5.136->oakx-grape) (1.10.2)\n",
      "Requirement already satisfied: SQLAlchemy<2.0.0,>=1.4.32 in /home/harry/oakx-grape/.venv/lib/python3.9/site-packages (from oaklib<0.2.0,>=0.1.43->oakx-grape) (1.4.44)\n",
      "Requirement already satisfied: SPARQLWrapper in /home/harry/oakx-grape/.venv/lib/python3.9/site-packages (from oaklib<0.2.0,>=0.1.43->oakx-grape) (2.0.0)\n",
      "Requirement already satisfied: lark<2.0.0,>=1.1.2 in /home/harry/oakx-grape/.venv/lib/python3.9/site-packages (from oaklib<0.2.0,>=0.1.43->oakx-grape) (1.1.4)\n",
      "Requirement already satisfied: ratelimit<3.0.0,>=2.2.1 in /home/harry/oakx-grape/.venv/lib/python3.9/site-packages (from oaklib<0.2.0,>=0.1.43->oakx-grape) (2.2.1)\n",
      "Requirement already satisfied: sssom-schema<0.10.0,>=0.9.3 in /home/harry/oakx-grape/.venv/lib/python3.9/site-packages (from oaklib<0.2.0,>=0.1.43->oakx-grape) (0.9.4)\n",
      "Requirement already satisfied: ols-client<0.2.0,>=0.1.1 in /home/harry/oakx-grape/.venv/lib/python3.9/site-packages (from oaklib<0.2.0,>=0.1.43->oakx-grape) (0.1.2)\n",
      "Requirement already satisfied: appdirs<2.0.0,>=1.4.4 in /home/harry/oakx-grape/.venv/lib/python3.9/site-packages (from oaklib<0.2.0,>=0.1.43->oakx-grape) (1.4.4)\n",
      "Requirement already satisfied: networkx<3.0.0,>=2.7.1 in /home/harry/oakx-grape/.venv/lib/python3.9/site-packages (from oaklib<0.2.0,>=0.1.43->oakx-grape) (2.8.8)\n",
      "Requirement already satisfied: kgcl-rdflib<0.4.0,>=0.3.0 in /home/harry/oakx-grape/.venv/lib/python3.9/site-packages (from oaklib<0.2.0,>=0.1.43->oakx-grape) (0.3.0)\n",
      "Requirement already satisfied: ontoportal-client==0.0.3 in /home/harry/oakx-grape/.venv/lib/python3.9/site-packages (from oaklib<0.2.0,>=0.1.43->oakx-grape) (0.0.3)\n",
      "Requirement already satisfied: kgcl-schema<0.4.0,>=0.3.1 in /home/harry/oakx-grape/.venv/lib/python3.9/site-packages (from oaklib<0.2.0,>=0.1.43->oakx-grape) (0.3.1)\n",
      "Requirement already satisfied: class-resolver<0.4.0,>=0.3.10 in /home/harry/oakx-grape/.venv/lib/python3.9/site-packages (from oaklib<0.2.0,>=0.1.43->oakx-grape) (0.3.10)\n",
      "Requirement already satisfied: prefixmaps<0.2.0,>=0.1.2 in /home/harry/oakx-grape/.venv/lib/python3.9/site-packages (from oaklib<0.2.0,>=0.1.43->oakx-grape) (0.1.4)\n",
      "Requirement already satisfied: pronto<3.0.0,>=2.5.0 in /home/harry/oakx-grape/.venv/lib/python3.9/site-packages (from oaklib<0.2.0,>=0.1.43->oakx-grape) (2.5.1)\n",
      "Requirement already satisfied: nxontology<0.5.0,>=0.4.0 in /home/harry/oakx-grape/.venv/lib/python3.9/site-packages (from oaklib<0.2.0,>=0.1.43->oakx-grape) (0.4.1)\n",
      "Requirement already satisfied: semsql<0.2.0,>=0.1.6 in /home/harry/oakx-grape/.venv/lib/python3.9/site-packages (from oaklib<0.2.0,>=0.1.43->oakx-grape) (0.1.7)\n",
      "Requirement already satisfied: linkml-runtime<2.0.0,>=1.2.15 in /home/harry/oakx-grape/.venv/lib/python3.9/site-packages (from oaklib<0.2.0,>=0.1.43->oakx-grape) (1.3.7)\n",
      "Requirement already satisfied: funowl<0.2.0,>=0.1.12 in /home/harry/oakx-grape/.venv/lib/python3.9/site-packages (from oaklib<0.2.0,>=0.1.43->oakx-grape) (0.1.12)\n",
      "Requirement already satisfied: sssom<0.4.0,>=0.3.16 in /home/harry/oakx-grape/.venv/lib/python3.9/site-packages (from oaklib<0.2.0,>=0.1.43->oakx-grape) (0.3.17)\n",
      "Requirement already satisfied: typing-extensions in /home/harry/oakx-grape/.venv/lib/python3.9/site-packages (from ontoportal-client==0.0.3->oaklib<0.2.0,>=0.1.43->oakx-grape) (4.4.0)\n",
      "Requirement already satisfied: numpy<1.26.0,>=1.18.5 in /home/harry/oakx-grape/.venv/lib/python3.9/site-packages (from scipy<2.0.0,>=1.9.0->oakx-grape) (1.23.5)\n",
      "Requirement already satisfied: packaging>=14 in /home/harry/oakx-grape/.venv/lib/python3.9/site-packages (from tox<4.0.0,>=3.25.1->oakx-grape) (21.3)\n",
      "Requirement already satisfied: pluggy>=0.12.0 in /home/harry/oakx-grape/.venv/lib/python3.9/site-packages (from tox<4.0.0,>=3.25.1->oakx-grape) (1.0.0)\n",
      "Requirement already satisfied: six>=1.14.0 in /home/harry/oakx-grape/.venv/lib/python3.9/site-packages (from tox<4.0.0,>=3.25.1->oakx-grape) (1.16.0)\n",
      "Requirement already satisfied: virtualenv!=20.0.0,!=20.0.1,!=20.0.2,!=20.0.3,!=20.0.4,!=20.0.5,!=20.0.6,!=20.0.7,>=16.0.0 in /home/harry/oakx-grape/.venv/lib/python3.9/site-packages (from tox<4.0.0,>=3.25.1->oakx-grape) (20.17.0)\n",
      "Requirement already satisfied: tomli>=2.0.1 in /home/harry/oakx-grape/.venv/lib/python3.9/site-packages (from tox<4.0.0,>=3.25.1->oakx-grape) (2.0.1)\n",
      "Requirement already satisfied: py>=1.4.17 in /home/harry/oakx-grape/.venv/lib/python3.9/site-packages (from tox<4.0.0,>=3.25.1->oakx-grape) (1.11.0)\n",
      "Requirement already satisfied: filelock>=3.0.0 in /home/harry/oakx-grape/.venv/lib/python3.9/site-packages (from tox<4.0.0,>=3.25.1->oakx-grape) (3.8.0)\n",
      "Requirement already satisfied: embiggen>=0.11.39 in /home/harry/oakx-grape/.venv/lib/python3.9/site-packages (from grape->oakx-grape) (0.11.39)\n",
      "Requirement already satisfied: humanize>=3.4.1 in /home/harry/oakx-grape/.venv/lib/python3.9/site-packages (from cache_decorator>=2.1.11->ensmallen==0.8.28->oakx-grape) (4.4.0)\n",
      "Requirement already satisfied: deflate-dict in /home/harry/oakx-grape/.venv/lib/python3.9/site-packages (from cache_decorator>=2.1.11->ensmallen==0.8.28->oakx-grape) (1.0.11)\n",
      "Requirement already satisfied: dict-hash>=1.1.25 in /home/harry/oakx-grape/.venv/lib/python3.9/site-packages (from cache_decorator>=2.1.11->ensmallen==0.8.28->oakx-grape) (1.1.29)\n",
      "Requirement already satisfied: compress-pickle>=2.0.1 in /home/harry/oakx-grape/.venv/lib/python3.9/site-packages (from cache_decorator>=2.1.11->ensmallen==0.8.28->oakx-grape) (2.1.0)\n",
      "Requirement already satisfied: support-developer in /home/harry/oakx-grape/.venv/lib/python3.9/site-packages (from compress_json>=1.0.7->ensmallen==0.8.28->oakx-grape) (1.0.5)\n"
     ]
    },
    {
     "name": "stdout",
     "output_type": "stream",
     "text": [
      "Requirement already satisfied: pytrie in /home/harry/oakx-grape/.venv/lib/python3.9/site-packages (from curies->bioregistry<0.6.0,>=0.5.136->oakx-grape) (0.4.0)\n",
      "Requirement already satisfied: sanitize-ml-labels>=1.0.45 in /home/harry/oakx-grape/.venv/lib/python3.9/site-packages (from embiggen>=0.11.39->grape->oakx-grape) (1.0.50)\n",
      "Requirement already satisfied: validate-version-code in /home/harry/oakx-grape/.venv/lib/python3.9/site-packages (from embiggen>=0.11.39->grape->oakx-grape) (1.0.4)\n",
      "Requirement already satisfied: scikit-learn in /home/harry/oakx-grape/.venv/lib/python3.9/site-packages (from embiggen>=0.11.39->grape->oakx-grape) (1.1.3)\n",
      "Requirement already satisfied: keras-mixed-sequence>=1.0.28 in /home/harry/oakx-grape/.venv/lib/python3.9/site-packages (from embiggen>=0.11.39->grape->oakx-grape) (1.0.28)\n",
      "Requirement already satisfied: ddd-subplots>=1.0.23 in /home/harry/oakx-grape/.venv/lib/python3.9/site-packages (from embiggen>=0.11.39->grape->oakx-grape) (1.0.23)\n",
      "Requirement already satisfied: matplotlib>=3.5.2 in /home/harry/oakx-grape/.venv/lib/python3.9/site-packages (from embiggen>=0.11.39->grape->oakx-grape) (3.6.2)\n",
      "Requirement already satisfied: rdflib>=5.0.0 in /home/harry/oakx-grape/.venv/lib/python3.9/site-packages (from funowl<0.2.0,>=0.1.12->oaklib<0.2.0,>=0.1.43->oakx-grape) (6.2.0)\n",
      "Requirement already satisfied: bcp47 in /home/harry/oakx-grape/.venv/lib/python3.9/site-packages (from funowl<0.2.0,>=0.1.12->oaklib<0.2.0,>=0.1.43->oakx-grape) (0.0.4)\n",
      "Requirement already satisfied: rfc3987 in /home/harry/oakx-grape/.venv/lib/python3.9/site-packages (from funowl<0.2.0,>=0.1.12->oaklib<0.2.0,>=0.1.43->oakx-grape) (1.3.8)\n",
      "Requirement already satisfied: pyjsg>=0.11.6 in /home/harry/oakx-grape/.venv/lib/python3.9/site-packages (from funowl<0.2.0,>=0.1.12->oaklib<0.2.0,>=0.1.43->oakx-grape) (0.11.10)\n",
      "Requirement already satisfied: rdflib-shim in /home/harry/oakx-grape/.venv/lib/python3.9/site-packages (from funowl<0.2.0,>=0.1.12->oaklib<0.2.0,>=0.1.43->oakx-grape) (1.0.3)\n",
      "Requirement already satisfied: hbreader in /home/harry/oakx-grape/.venv/lib/python3.9/site-packages (from linkml-runtime<2.0.0,>=1.2.15->oaklib<0.2.0,>=0.1.43->oakx-grape) (0.9.1)\n",
      "Requirement already satisfied: prefixcommons>=0.1.12 in /home/harry/oakx-grape/.venv/lib/python3.9/site-packages (from linkml-runtime<2.0.0,>=1.2.15->oaklib<0.2.0,>=0.1.43->oakx-grape) (0.1.12)\n",
      "Requirement already satisfied: deprecated in /home/harry/oakx-grape/.venv/lib/python3.9/site-packages (from linkml-runtime<2.0.0,>=1.2.15->oaklib<0.2.0,>=0.1.43->oakx-grape) (1.2.13)\n",
      "Requirement already satisfied: json-flattener>=0.1.9 in /home/harry/oakx-grape/.venv/lib/python3.9/site-packages (from linkml-runtime<2.0.0,>=1.2.15->oaklib<0.2.0,>=0.1.43->oakx-grape) (0.1.9)\n",
      "Requirement already satisfied: pyyaml in /home/harry/oakx-grape/.venv/lib/python3.9/site-packages (from linkml-runtime<2.0.0,>=1.2.15->oaklib<0.2.0,>=0.1.43->oakx-grape) (6.0)\n",
      "Requirement already satisfied: jsonasobj2<2.0.0,>=1.0.4 in /home/harry/oakx-grape/.venv/lib/python3.9/site-packages (from linkml-runtime<2.0.0,>=1.2.15->oaklib<0.2.0,>=0.1.43->oakx-grape) (1.0.4)\n",
      "Requirement already satisfied: jsonschema>=3.2.0 in /home/harry/oakx-grape/.venv/lib/python3.9/site-packages (from linkml-runtime<2.0.0,>=1.2.15->oaklib<0.2.0,>=0.1.43->oakx-grape) (4.17.3)\n",
      "Requirement already satisfied: fsspec[http] in /home/harry/oakx-grape/.venv/lib/python3.9/site-packages (from nxontology<0.5.0,>=0.4.0->oaklib<0.2.0,>=0.1.43->oakx-grape) (2022.11.0)\n",
      "Requirement already satisfied: pyparsing!=3.0.5,>=2.0.2 in /home/harry/oakx-grape/.venv/lib/python3.9/site-packages (from packaging>=14->tox<4.0.0,>=3.25.1->oakx-grape) (3.0.9)\n",
      "Requirement already satisfied: python-dateutil>=2.8.1 in /home/harry/oakx-grape/.venv/lib/python3.9/site-packages (from pandas->ensmallen==0.8.28->oakx-grape) (2.8.2)\n",
      "Requirement already satisfied: pytz>=2020.1 in /home/harry/oakx-grape/.venv/lib/python3.9/site-packages (from pandas->ensmallen==0.8.28->oakx-grape) (2022.6)\n",
      "Requirement already satisfied: importlib-metadata<5.0.0,>=4.12.0 in /home/harry/oakx-grape/.venv/lib/python3.9/site-packages (from prefixmaps<0.2.0,>=0.1.2->oaklib<0.2.0,>=0.1.43->oakx-grape) (4.13.0)\n",
      "Requirement already satisfied: fastobo~=0.12.1 in /home/harry/oakx-grape/.venv/lib/python3.9/site-packages (from pronto<3.0.0,>=2.5.0->oaklib<0.2.0,>=0.1.43->oakx-grape) (0.12.1)\n",
      "Requirement already satisfied: chardet<5.0,>=3.0 in /home/harry/oakx-grape/.venv/lib/python3.9/site-packages (from pronto<3.0.0,>=2.5.0->oaklib<0.2.0,>=0.1.43->oakx-grape) (4.0.0)\n",
      "Requirement already satisfied: SQLAlchemy-Utils<0.39.0,>=0.38.2 in /home/harry/oakx-grape/.venv/lib/python3.9/site-packages (from semsql<0.2.0,>=0.1.6->oaklib<0.2.0,>=0.1.43->oakx-grape) (0.38.3)\n",
      "Requirement already satisfied: greenlet!=0.4.17 in /home/harry/oakx-grape/.venv/lib/python3.9/site-packages (from SQLAlchemy<2.0.0,>=1.4.32->oaklib<0.2.0,>=0.1.43->oakx-grape) (2.0.1)\n",
      "Requirement already satisfied: linkml in /home/harry/oakx-grape/.venv/lib/python3.9/site-packages (from sssom<0.4.0,>=0.3.16->oaklib<0.2.0,>=0.1.43->oakx-grape) (1.3.14)\n",
      "Requirement already satisfied: validators>=0.0 in /home/harry/oakx-grape/.venv/lib/python3.9/site-packages (from sssom<0.4.0,>=0.3.16->oaklib<0.2.0,>=0.1.43->oakx-grape) (0.20.0)\n",
      "Requirement already satisfied: pandasql in /home/harry/oakx-grape/.venv/lib/python3.9/site-packages (from sssom<0.4.0,>=0.3.16->oaklib<0.2.0,>=0.1.43->oakx-grape) (0.7.3)\n",
      "Requirement already satisfied: deprecation in /home/harry/oakx-grape/.venv/lib/python3.9/site-packages (from sssom<0.4.0,>=0.3.16->oaklib<0.2.0,>=0.1.43->oakx-grape) (2.1.0)\n",
      "Requirement already satisfied: setuptools in /home/harry/oakx-grape/.venv/lib/python3.9/site-packages (from sssom<0.4.0,>=0.3.16->oaklib<0.2.0,>=0.1.43->oakx-grape) (65.6.3)\n",
      "Requirement already satisfied: validate-email in /home/harry/oakx-grape/.venv/lib/python3.9/site-packages (from userinput>=1.0.19->ensmallen==0.8.28->oakx-grape) (1.3)\n",
      "Requirement already satisfied: jaro-winkler in /home/harry/oakx-grape/.venv/lib/python3.9/site-packages (from userinput>=1.0.19->ensmallen==0.8.28->oakx-grape) (2.0.3)\n",
      "Requirement already satisfied: IPy in /home/harry/oakx-grape/.venv/lib/python3.9/site-packages (from userinput>=1.0.19->ensmallen==0.8.28->oakx-grape) (1.1)\n",
      "Requirement already satisfied: ipython in /home/harry/oakx-grape/.venv/lib/python3.9/site-packages (from userinput>=1.0.19->ensmallen==0.8.28->oakx-grape) (8.7.0)\n",
      "Requirement already satisfied: distlib<1,>=0.3.6 in /home/harry/oakx-grape/.venv/lib/python3.9/site-packages (from virtualenv!=20.0.0,!=20.0.1,!=20.0.2,!=20.0.3,!=20.0.4,!=20.0.5,!=20.0.6,!=20.0.7,>=16.0.0->tox<4.0.0,>=3.25.1->oakx-grape) (0.3.6)\n",
      "Requirement already satisfied: platformdirs<3,>=2.4 in /home/harry/oakx-grape/.venv/lib/python3.9/site-packages (from virtualenv!=20.0.0,!=20.0.1,!=20.0.2,!=20.0.3,!=20.0.4,!=20.0.5,!=20.0.6,!=20.0.7,>=16.0.0->tox<4.0.0,>=3.25.1->oakx-grape) (2.5.4)\n",
      "Requirement already satisfied: certifi>=2017.4.17 in /home/harry/oakx-grape/.venv/lib/python3.9/site-packages (from requests->bioregistry<0.6.0,>=0.5.136->oakx-grape) (2022.9.24)\n",
      "Requirement already satisfied: urllib3<1.27,>=1.21.1 in /home/harry/oakx-grape/.venv/lib/python3.9/site-packages (from requests->bioregistry<0.6.0,>=0.5.136->oakx-grape) (1.26.13)\n",
      "Requirement already satisfied: idna<4,>=2.5 in /home/harry/oakx-grape/.venv/lib/python3.9/site-packages (from requests->bioregistry<0.6.0,>=0.5.136->oakx-grape) (3.4)\n",
      "Requirement already satisfied: charset-normalizer<3,>=2 in /home/harry/oakx-grape/.venv/lib/python3.9/site-packages (from requests->bioregistry<0.6.0,>=0.5.136->oakx-grape) (2.1.1)\n",
      "Requirement already satisfied: pygifsicle in /home/harry/oakx-grape/.venv/lib/python3.9/site-packages (from ddd-subplots>=1.0.23->embiggen>=0.11.39->grape->oakx-grape) (1.0.7)\n",
      "Requirement already satisfied: opencv-python in /home/harry/oakx-grape/.venv/lib/python3.9/site-packages (from ddd-subplots>=1.0.23->embiggen>=0.11.39->grape->oakx-grape) (4.6.0.66)\n",
      "Requirement already satisfied: sklearn in /home/harry/oakx-grape/.venv/lib/python3.9/site-packages (from ddd-subplots>=1.0.23->embiggen>=0.11.39->grape->oakx-grape) (0.0.post1)\n",
      "Requirement already satisfied: imageio in /home/harry/oakx-grape/.venv/lib/python3.9/site-packages (from ddd-subplots>=1.0.23->embiggen>=0.11.39->grape->oakx-grape) (2.22.4)\n"
     ]
    },
    {
     "name": "stdout",
     "output_type": "stream",
     "text": [
      "Requirement already satisfied: zipp>=0.5 in /home/harry/oakx-grape/.venv/lib/python3.9/site-packages (from importlib-metadata<5.0.0,>=4.12.0->prefixmaps<0.2.0,>=0.1.2->oaklib<0.2.0,>=0.1.43->oakx-grape) (3.11.0)\n",
      "Requirement already satisfied: pyrsistent!=0.17.0,!=0.17.1,!=0.17.2,>=0.14.0 in /home/harry/oakx-grape/.venv/lib/python3.9/site-packages (from jsonschema>=3.2.0->linkml-runtime<2.0.0,>=1.2.15->oaklib<0.2.0,>=0.1.43->oakx-grape) (0.19.2)\n",
      "Requirement already satisfied: attrs>=17.4.0 in /home/harry/oakx-grape/.venv/lib/python3.9/site-packages (from jsonschema>=3.2.0->linkml-runtime<2.0.0,>=1.2.15->oaklib<0.2.0,>=0.1.43->oakx-grape) (22.1.0)\n",
      "Requirement already satisfied: fonttools>=4.22.0 in /home/harry/oakx-grape/.venv/lib/python3.9/site-packages (from matplotlib>=3.5.2->embiggen>=0.11.39->grape->oakx-grape) (4.38.0)\n",
      "Requirement already satisfied: contourpy>=1.0.1 in /home/harry/oakx-grape/.venv/lib/python3.9/site-packages (from matplotlib>=3.5.2->embiggen>=0.11.39->grape->oakx-grape) (1.0.6)\n",
      "Requirement already satisfied: cycler>=0.10 in /home/harry/oakx-grape/.venv/lib/python3.9/site-packages (from matplotlib>=3.5.2->embiggen>=0.11.39->grape->oakx-grape) (0.11.0)\n",
      "Requirement already satisfied: kiwisolver>=1.0.1 in /home/harry/oakx-grape/.venv/lib/python3.9/site-packages (from matplotlib>=3.5.2->embiggen>=0.11.39->grape->oakx-grape) (1.4.4)\n",
      "Requirement already satisfied: pillow>=6.2.0 in /home/harry/oakx-grape/.venv/lib/python3.9/site-packages (from matplotlib>=3.5.2->embiggen>=0.11.39->grape->oakx-grape) (9.3.0)\n",
      "Requirement already satisfied: pytest-logging<2016.0.0,>=2015.11.4 in /home/harry/oakx-grape/.venv/lib/python3.9/site-packages (from prefixcommons>=0.1.12->linkml-runtime<2.0.0,>=1.2.15->oaklib<0.2.0,>=0.1.43->oakx-grape) (2015.11.4)\n",
      "Requirement already satisfied: jsonasobj>=1.2.1 in /home/harry/oakx-grape/.venv/lib/python3.9/site-packages (from pyjsg>=0.11.6->funowl<0.2.0,>=0.1.12->oaklib<0.2.0,>=0.1.43->oakx-grape) (1.3.1)\n",
      "Requirement already satisfied: antlr4-python3-runtime~=4.9.3 in /home/harry/oakx-grape/.venv/lib/python3.9/site-packages (from pyjsg>=0.11.6->funowl<0.2.0,>=0.1.12->oaklib<0.2.0,>=0.1.43->oakx-grape) (4.9.3)\n",
      "Requirement already satisfied: isodate in /home/harry/oakx-grape/.venv/lib/python3.9/site-packages (from rdflib>=5.0.0->funowl<0.2.0,>=0.1.12->oaklib<0.2.0,>=0.1.43->oakx-grape) (0.6.1)\n",
      "Requirement already satisfied: decorator>=3.4.0 in /home/harry/oakx-grape/.venv/lib/python3.9/site-packages (from validators>=0.0->sssom<0.4.0,>=0.3.16->oaklib<0.2.0,>=0.1.43->oakx-grape) (5.1.1)\n",
      "Requirement already satisfied: wrapt<2,>=1.10 in /home/harry/oakx-grape/.venv/lib/python3.9/site-packages (from deprecated->linkml-runtime<2.0.0,>=1.2.15->oaklib<0.2.0,>=0.1.43->oakx-grape) (1.14.1)\n",
      "Requirement already satisfied: aiohttp!=4.0.0a0,!=4.0.0a1 in /home/harry/oakx-grape/.venv/lib/python3.9/site-packages (from fsspec[http]->nxontology<0.5.0,>=0.4.0->oaklib<0.2.0,>=0.1.43->oakx-grape) (3.8.3)\n",
      "Requirement already satisfied: pygments>=2.4.0 in /home/harry/oakx-grape/.venv/lib/python3.9/site-packages (from ipython->userinput>=1.0.19->ensmallen==0.8.28->oakx-grape) (2.13.0)\n",
      "Requirement already satisfied: backcall in /home/harry/oakx-grape/.venv/lib/python3.9/site-packages (from ipython->userinput>=1.0.19->ensmallen==0.8.28->oakx-grape) (0.2.0)\n",
      "Requirement already satisfied: stack-data in /home/harry/oakx-grape/.venv/lib/python3.9/site-packages (from ipython->userinput>=1.0.19->ensmallen==0.8.28->oakx-grape) (0.6.2)\n",
      "Requirement already satisfied: pexpect>4.3 in /home/harry/oakx-grape/.venv/lib/python3.9/site-packages (from ipython->userinput>=1.0.19->ensmallen==0.8.28->oakx-grape) (4.8.0)\n",
      "Requirement already satisfied: matplotlib-inline in /home/harry/oakx-grape/.venv/lib/python3.9/site-packages (from ipython->userinput>=1.0.19->ensmallen==0.8.28->oakx-grape) (0.1.6)\n",
      "Requirement already satisfied: prompt-toolkit<3.1.0,>=3.0.11 in /home/harry/oakx-grape/.venv/lib/python3.9/site-packages (from ipython->userinput>=1.0.19->ensmallen==0.8.28->oakx-grape) (3.0.33)\n",
      "Requirement already satisfied: pickleshare in /home/harry/oakx-grape/.venv/lib/python3.9/site-packages (from ipython->userinput>=1.0.19->ensmallen==0.8.28->oakx-grape) (0.7.5)\n",
      "Requirement already satisfied: traitlets>=5 in /home/harry/oakx-grape/.venv/lib/python3.9/site-packages (from ipython->userinput>=1.0.19->ensmallen==0.8.28->oakx-grape) (5.6.0)\n",
      "Requirement already satisfied: jedi>=0.16 in /home/harry/oakx-grape/.venv/lib/python3.9/site-packages (from ipython->userinput>=1.0.19->ensmallen==0.8.28->oakx-grape) (0.18.2)\n",
      "Requirement already satisfied: linkml-dataops in /home/harry/oakx-grape/.venv/lib/python3.9/site-packages (from linkml->sssom<0.4.0,>=0.3.16->oaklib<0.2.0,>=0.1.43->oakx-grape) (0.1.0)\n",
      "Requirement already satisfied: myst-parser in /home/harry/oakx-grape/.venv/lib/python3.9/site-packages (from linkml->sssom<0.4.0,>=0.3.16->oaklib<0.2.0,>=0.1.43->oakx-grape) (0.18.1)\n",
      "Requirement already satisfied: jinja2>=3.1.0 in /home/harry/oakx-grape/.venv/lib/python3.9/site-packages (from linkml->sssom<0.4.0,>=0.3.16->oaklib<0.2.0,>=0.1.43->oakx-grape) (3.1.2)\n",
      "Requirement already satisfied: openpyxl in /home/harry/oakx-grape/.venv/lib/python3.9/site-packages (from linkml->sssom<0.4.0,>=0.3.16->oaklib<0.2.0,>=0.1.43->oakx-grape) (3.0.10)\n",
      "Requirement already satisfied: parse in /home/harry/oakx-grape/.venv/lib/python3.9/site-packages (from linkml->sssom<0.4.0,>=0.3.16->oaklib<0.2.0,>=0.1.43->oakx-grape) (1.19.0)\n",
      "Requirement already satisfied: pyshex>=0.7.20 in /home/harry/oakx-grape/.venv/lib/python3.9/site-packages (from linkml->sssom<0.4.0,>=0.3.16->oaklib<0.2.0,>=0.1.43->oakx-grape) (0.8.1)\n",
      "Requirement already satisfied: graphviz>=0.10.1 in /home/harry/oakx-grape/.venv/lib/python3.9/site-packages (from linkml->sssom<0.4.0,>=0.3.16->oaklib<0.2.0,>=0.1.43->oakx-grape) (0.20.1)\n",
      "Requirement already satisfied: pyshexc>=0.8.3 in /home/harry/oakx-grape/.venv/lib/python3.9/site-packages (from linkml->sssom<0.4.0,>=0.3.16->oaklib<0.2.0,>=0.1.43->oakx-grape) (0.9.1)\n",
      "Requirement already satisfied: sphinx-rtd-theme in /home/harry/oakx-grape/.venv/lib/python3.9/site-packages (from linkml->sssom<0.4.0,>=0.3.16->oaklib<0.2.0,>=0.1.43->oakx-grape) (0.5.1)\n",
      "Requirement already satisfied: sphinx-click in /home/harry/oakx-grape/.venv/lib/python3.9/site-packages (from linkml->sssom<0.4.0,>=0.3.16->oaklib<0.2.0,>=0.1.43->oakx-grape) (4.3.0)\n",
      "Requirement already satisfied: watchdog>=0.9.0 in /home/harry/oakx-grape/.venv/lib/python3.9/site-packages (from linkml->sssom<0.4.0,>=0.3.16->oaklib<0.2.0,>=0.1.43->oakx-grape) (2.1.9)\n",
      "Requirement already satisfied: sortedcontainers in /home/harry/oakx-grape/.venv/lib/python3.9/site-packages (from pytrie->curies->bioregistry<0.6.0,>=0.5.136->oakx-grape) (2.4.0)\n",
      "Requirement already satisfied: rdflib-jsonld==0.6.1 in /home/harry/oakx-grape/.venv/lib/python3.9/site-packages (from rdflib-shim->funowl<0.2.0,>=0.1.12->oaklib<0.2.0,>=0.1.43->oakx-grape) (0.6.1)\n",
      "Requirement already satisfied: threadpoolctl>=2.0.0 in /home/harry/oakx-grape/.venv/lib/python3.9/site-packages (from scikit-learn->embiggen>=0.11.39->grape->oakx-grape) (3.1.0)\n",
      "Requirement already satisfied: joblib>=1.0.0 in /home/harry/oakx-grape/.venv/lib/python3.9/site-packages (from scikit-learn->embiggen>=0.11.39->grape->oakx-grape) (1.2.0)\n",
      "Requirement already satisfied: multidict<7.0,>=4.5 in /home/harry/oakx-grape/.venv/lib/python3.9/site-packages (from aiohttp!=4.0.0a0,!=4.0.0a1->fsspec[http]->nxontology<0.5.0,>=0.4.0->oaklib<0.2.0,>=0.1.43->oakx-grape) (6.0.2)\n",
      "Requirement already satisfied: aiosignal>=1.1.2 in /home/harry/oakx-grape/.venv/lib/python3.9/site-packages (from aiohttp!=4.0.0a0,!=4.0.0a1->fsspec[http]->nxontology<0.5.0,>=0.4.0->oaklib<0.2.0,>=0.1.43->oakx-grape) (1.3.1)\n",
      "Requirement already satisfied: async-timeout<5.0,>=4.0.0a3 in /home/harry/oakx-grape/.venv/lib/python3.9/site-packages (from aiohttp!=4.0.0a0,!=4.0.0a1->fsspec[http]->nxontology<0.5.0,>=0.4.0->oaklib<0.2.0,>=0.1.43->oakx-grape) (4.0.2)\n",
      "Requirement already satisfied: frozenlist>=1.1.1 in /home/harry/oakx-grape/.venv/lib/python3.9/site-packages (from aiohttp!=4.0.0a0,!=4.0.0a1->fsspec[http]->nxontology<0.5.0,>=0.4.0->oaklib<0.2.0,>=0.1.43->oakx-grape) (1.3.3)\n",
      "Requirement already satisfied: yarl<2.0,>=1.0 in /home/harry/oakx-grape/.venv/lib/python3.9/site-packages (from aiohttp!=4.0.0a0,!=4.0.0a1->fsspec[http]->nxontology<0.5.0,>=0.4.0->oaklib<0.2.0,>=0.1.43->oakx-grape) (1.8.1)\n"
     ]
    },
    {
     "name": "stdout",
     "output_type": "stream",
     "text": [
      "Requirement already satisfied: parso<0.9.0,>=0.8.0 in /home/harry/oakx-grape/.venv/lib/python3.9/site-packages (from jedi>=0.16->ipython->userinput>=1.0.19->ensmallen==0.8.28->oakx-grape) (0.8.3)\n",
      "Requirement already satisfied: MarkupSafe>=2.0 in /home/harry/oakx-grape/.venv/lib/python3.9/site-packages (from jinja2>=3.1.0->linkml->sssom<0.4.0,>=0.3.16->oaklib<0.2.0,>=0.1.43->oakx-grape) (2.1.1)\n",
      "Requirement already satisfied: jsonpointer>1.13 in /home/harry/oakx-grape/.venv/lib/python3.9/site-packages (from jsonschema>=3.2.0->linkml-runtime<2.0.0,>=1.2.15->oaklib<0.2.0,>=0.1.43->oakx-grape) (2.3)\n",
      "Requirement already satisfied: isoduration in /home/harry/oakx-grape/.venv/lib/python3.9/site-packages (from jsonschema>=3.2.0->linkml-runtime<2.0.0,>=1.2.15->oaklib<0.2.0,>=0.1.43->oakx-grape) (20.11.0)\n",
      "Requirement already satisfied: rfc3339-validator in /home/harry/oakx-grape/.venv/lib/python3.9/site-packages (from jsonschema>=3.2.0->linkml-runtime<2.0.0,>=1.2.15->oaklib<0.2.0,>=0.1.43->oakx-grape) (0.1.4)\n",
      "Requirement already satisfied: uri-template in /home/harry/oakx-grape/.venv/lib/python3.9/site-packages (from jsonschema>=3.2.0->linkml-runtime<2.0.0,>=1.2.15->oaklib<0.2.0,>=0.1.43->oakx-grape) (1.2.0)\n",
      "Requirement already satisfied: webcolors>=1.11 in /home/harry/oakx-grape/.venv/lib/python3.9/site-packages (from jsonschema>=3.2.0->linkml-runtime<2.0.0,>=1.2.15->oaklib<0.2.0,>=0.1.43->oakx-grape) (1.12)\n",
      "Requirement already satisfied: fqdn in /home/harry/oakx-grape/.venv/lib/python3.9/site-packages (from jsonschema>=3.2.0->linkml-runtime<2.0.0,>=1.2.15->oaklib<0.2.0,>=0.1.43->oakx-grape) (1.5.1)\n",
      "Requirement already satisfied: ptyprocess>=0.5 in /home/harry/oakx-grape/.venv/lib/python3.9/site-packages (from pexpect>4.3->ipython->userinput>=1.0.19->ensmallen==0.8.28->oakx-grape) (0.7.0)\n",
      "Requirement already satisfied: wcwidth in /home/harry/oakx-grape/.venv/lib/python3.9/site-packages (from prompt-toolkit<3.1.0,>=3.0.11->ipython->userinput>=1.0.19->ensmallen==0.8.28->oakx-grape) (0.2.5)\n",
      "Requirement already satisfied: sparqlslurper>=0.5.1 in /home/harry/oakx-grape/.venv/lib/python3.9/site-packages (from pyshex>=0.7.20->linkml->sssom<0.4.0,>=0.3.16->oaklib<0.2.0,>=0.1.43->oakx-grape) (0.5.1)\n",
      "Requirement already satisfied: cfgraph>=0.2.1 in /home/harry/oakx-grape/.venv/lib/python3.9/site-packages (from pyshex>=0.7.20->linkml->sssom<0.4.0,>=0.3.16->oaklib<0.2.0,>=0.1.43->oakx-grape) (0.2.1)\n",
      "Requirement already satisfied: shexjsg>=0.8.2 in /home/harry/oakx-grape/.venv/lib/python3.9/site-packages (from pyshex>=0.7.20->linkml->sssom<0.4.0,>=0.3.16->oaklib<0.2.0,>=0.1.43->oakx-grape) (0.8.2)\n",
      "Requirement already satisfied: pytest>=2.8.1 in /home/harry/oakx-grape/.venv/lib/python3.9/site-packages (from pytest-logging<2016.0.0,>=2015.11.4->prefixcommons>=0.1.12->linkml-runtime<2.0.0,>=1.2.15->oaklib<0.2.0,>=0.1.43->oakx-grape) (7.2.0)\n",
      "Requirement already satisfied: jsonpath-ng in /home/harry/oakx-grape/.venv/lib/python3.9/site-packages (from linkml-dataops->linkml->sssom<0.4.0,>=0.3.16->oaklib<0.2.0,>=0.1.43->oakx-grape) (1.5.3)\n",
      "Requirement already satisfied: jsonpatch in /home/harry/oakx-grape/.venv/lib/python3.9/site-packages (from linkml-dataops->linkml->sssom<0.4.0,>=0.3.16->oaklib<0.2.0,>=0.1.43->oakx-grape) (1.32)\n",
      "Requirement already satisfied: ruamel.yaml in /home/harry/oakx-grape/.venv/lib/python3.9/site-packages (from linkml-dataops->linkml->sssom<0.4.0,>=0.3.16->oaklib<0.2.0,>=0.1.43->oakx-grape) (0.17.21)\n",
      "Requirement already satisfied: docutils<0.20,>=0.15 in /home/harry/oakx-grape/.venv/lib/python3.9/site-packages (from myst-parser->linkml->sssom<0.4.0,>=0.3.16->oaklib<0.2.0,>=0.1.43->oakx-grape) (0.19)\n",
      "Requirement already satisfied: sphinx<6,>=4 in /home/harry/oakx-grape/.venv/lib/python3.9/site-packages (from myst-parser->linkml->sssom<0.4.0,>=0.3.16->oaklib<0.2.0,>=0.1.43->oakx-grape) (5.3.0)\n",
      "Requirement already satisfied: mdit-py-plugins~=0.3.1 in /home/harry/oakx-grape/.venv/lib/python3.9/site-packages (from myst-parser->linkml->sssom<0.4.0,>=0.3.16->oaklib<0.2.0,>=0.1.43->oakx-grape) (0.3.1)\n",
      "Requirement already satisfied: markdown-it-py<3.0.0,>=1.0.0 in /home/harry/oakx-grape/.venv/lib/python3.9/site-packages (from myst-parser->linkml->sssom<0.4.0,>=0.3.16->oaklib<0.2.0,>=0.1.43->oakx-grape) (2.1.0)\n",
      "Requirement already satisfied: et-xmlfile in /home/harry/oakx-grape/.venv/lib/python3.9/site-packages (from openpyxl->linkml->sssom<0.4.0,>=0.3.16->oaklib<0.2.0,>=0.1.43->oakx-grape) (1.1.0)\n",
      "Requirement already satisfied: pure-eval in /home/harry/oakx-grape/.venv/lib/python3.9/site-packages (from stack-data->ipython->userinput>=1.0.19->ensmallen==0.8.28->oakx-grape) (0.2.2)\n",
      "Requirement already satisfied: asttokens>=2.1.0 in /home/harry/oakx-grape/.venv/lib/python3.9/site-packages (from stack-data->ipython->userinput>=1.0.19->ensmallen==0.8.28->oakx-grape) (2.2.0)\n",
      "Requirement already satisfied: executing>=1.2.0 in /home/harry/oakx-grape/.venv/lib/python3.9/site-packages (from stack-data->ipython->userinput>=1.0.19->ensmallen==0.8.28->oakx-grape) (1.2.0)\n",
      "Requirement already satisfied: mdurl~=0.1 in /home/harry/oakx-grape/.venv/lib/python3.9/site-packages (from markdown-it-py<3.0.0,>=1.0.0->myst-parser->linkml->sssom<0.4.0,>=0.3.16->oaklib<0.2.0,>=0.1.43->oakx-grape) (0.1.2)\n",
      "Requirement already satisfied: iniconfig in /home/harry/oakx-grape/.venv/lib/python3.9/site-packages (from pytest>=2.8.1->pytest-logging<2016.0.0,>=2015.11.4->prefixcommons>=0.1.12->linkml-runtime<2.0.0,>=1.2.15->oaklib<0.2.0,>=0.1.43->oakx-grape) (1.1.1)\n",
      "Requirement already satisfied: exceptiongroup>=1.0.0rc8 in /home/harry/oakx-grape/.venv/lib/python3.9/site-packages (from pytest>=2.8.1->pytest-logging<2016.0.0,>=2015.11.4->prefixcommons>=0.1.12->linkml-runtime<2.0.0,>=1.2.15->oaklib<0.2.0,>=0.1.43->oakx-grape) (1.0.4)\n",
      "Requirement already satisfied: sphinxcontrib-devhelp in /home/harry/oakx-grape/.venv/lib/python3.9/site-packages (from sphinx<6,>=4->myst-parser->linkml->sssom<0.4.0,>=0.3.16->oaklib<0.2.0,>=0.1.43->oakx-grape) (1.0.2)\n",
      "Requirement already satisfied: alabaster<0.8,>=0.7 in /home/harry/oakx-grape/.venv/lib/python3.9/site-packages (from sphinx<6,>=4->myst-parser->linkml->sssom<0.4.0,>=0.3.16->oaklib<0.2.0,>=0.1.43->oakx-grape) (0.7.12)\n",
      "Requirement already satisfied: sphinxcontrib-serializinghtml>=1.1.5 in /home/harry/oakx-grape/.venv/lib/python3.9/site-packages (from sphinx<6,>=4->myst-parser->linkml->sssom<0.4.0,>=0.3.16->oaklib<0.2.0,>=0.1.43->oakx-grape) (1.1.5)\n",
      "Requirement already satisfied: sphinxcontrib-applehelp in /home/harry/oakx-grape/.venv/lib/python3.9/site-packages (from sphinx<6,>=4->myst-parser->linkml->sssom<0.4.0,>=0.3.16->oaklib<0.2.0,>=0.1.43->oakx-grape) (1.0.2)\n",
      "Requirement already satisfied: sphinxcontrib-qthelp in /home/harry/oakx-grape/.venv/lib/python3.9/site-packages (from sphinx<6,>=4->myst-parser->linkml->sssom<0.4.0,>=0.3.16->oaklib<0.2.0,>=0.1.43->oakx-grape) (1.0.3)\n",
      "Requirement already satisfied: imagesize>=1.3 in /home/harry/oakx-grape/.venv/lib/python3.9/site-packages (from sphinx<6,>=4->myst-parser->linkml->sssom<0.4.0,>=0.3.16->oaklib<0.2.0,>=0.1.43->oakx-grape) (1.4.1)\n",
      "Requirement already satisfied: sphinxcontrib-jsmath in /home/harry/oakx-grape/.venv/lib/python3.9/site-packages (from sphinx<6,>=4->myst-parser->linkml->sssom<0.4.0,>=0.3.16->oaklib<0.2.0,>=0.1.43->oakx-grape) (1.0.1)\n",
      "Requirement already satisfied: snowballstemmer>=2.0 in /home/harry/oakx-grape/.venv/lib/python3.9/site-packages (from sphinx<6,>=4->myst-parser->linkml->sssom<0.4.0,>=0.3.16->oaklib<0.2.0,>=0.1.43->oakx-grape) (2.2.0)\n",
      "Requirement already satisfied: babel>=2.9 in /home/harry/oakx-grape/.venv/lib/python3.9/site-packages (from sphinx<6,>=4->myst-parser->linkml->sssom<0.4.0,>=0.3.16->oaklib<0.2.0,>=0.1.43->oakx-grape) (2.11.0)\n",
      "Requirement already satisfied: sphinxcontrib-htmlhelp>=2.0.0 in /home/harry/oakx-grape/.venv/lib/python3.9/site-packages (from sphinx<6,>=4->myst-parser->linkml->sssom<0.4.0,>=0.3.16->oaklib<0.2.0,>=0.1.43->oakx-grape) (2.0.0)\n",
      "Requirement already satisfied: arrow>=0.15.0 in /home/harry/oakx-grape/.venv/lib/python3.9/site-packages (from isoduration->jsonschema>=3.2.0->linkml-runtime<2.0.0,>=1.2.15->oaklib<0.2.0,>=0.1.43->oakx-grape) (1.2.3)\n"
     ]
    },
    {
     "name": "stdout",
     "output_type": "stream",
     "text": [
      "Requirement already satisfied: ply in /home/harry/oakx-grape/.venv/lib/python3.9/site-packages (from jsonpath-ng->linkml-dataops->linkml->sssom<0.4.0,>=0.3.16->oaklib<0.2.0,>=0.1.43->oakx-grape) (3.11)\n",
      "Requirement already satisfied: ruamel.yaml.clib>=0.2.6 in /home/harry/oakx-grape/.venv/lib/python3.9/site-packages (from ruamel.yaml->linkml-dataops->linkml->sssom<0.4.0,>=0.3.16->oaklib<0.2.0,>=0.1.43->oakx-grape) (0.2.7)\n",
      "\n",
      "\u001b[1m[\u001b[0m\u001b[34;49mnotice\u001b[0m\u001b[1;39;49m]\u001b[0m\u001b[39;49m A new release of pip available: \u001b[0m\u001b[31;49m22.2.2\u001b[0m\u001b[39;49m -> \u001b[0m\u001b[32;49m22.3.1\u001b[0m\n",
      "\u001b[1m[\u001b[0m\u001b[34;49mnotice\u001b[0m\u001b[1;39;49m]\u001b[0m\u001b[39;49m To update, run: \u001b[0m\u001b[32;49mpip install --upgrade pip\u001b[0m\n",
      "Note: you may need to restart the kernel to use updated packages.\n"
     ]
    }
   ],
   "source": [
    "pip install oakx-grape"
   ]
  },
  {
   "cell_type": "markdown",
   "id": "3fa5eca9",
   "metadata": {},
   "source": [
    "**NOTE:**\n",
    "Macbook users with M1 processor need to do a few extra steps as follows:\n",
    "\n",
    " - Download [Anaconda](https://www.anaconda.com/products/distribution).\n",
    " - `conda create --name oakx-grape-env python=3.9`\n",
    " - `conda activate oakx-grape-env`\n",
    " - `pip install poetry`\n",
    " - `poetry install`\n",
    " \n",
    "Then precede the commands below with `poetry run` to ensure the correct version of Python runs."
   ]
  },
  {
   "cell_type": "markdown",
   "id": "f5a57be6",
   "metadata": {},
   "source": [
    "Once the plugin is installed, load the PHENIO ontology through OAK's semantic SQL interface, and test that it loaded correctly by getting summary statistics:"
   ]
  },
  {
   "cell_type": "code",
   "execution_count": 6,
   "id": "07dbc558",
   "metadata": {},
   "outputs": [
    {
     "name": "stdout",
     "output_type": "stream",
     "text": [
      "INFO:root:Settings = Settings(impl=None, autosave=False, associations_type=None)\n",
      "DEBUG:matplotlib:matplotlib data path: /home/harry/oakx-grape/.venv/lib/python3.9/site-packages/matplotlib/mpl-data\n",
      "DEBUG:matplotlib:CONFIGDIR=/home/harry/.config/matplotlib\n",
      "DEBUG:matplotlib:interactive is False\n",
      "DEBUG:matplotlib:platform is linux\n",
      "DEBUG:matplotlib:CACHEDIR=/home/harry/.cache/matplotlib\n",
      "DEBUG:matplotlib.font_manager:Using fontManager instance from /home/harry/.cache/matplotlib/fontlist-v330.json\n",
      "INFO:root:Ensmallen is using Haswell\n",
      "IndexError: list index out of range\n"
     ]
    }
   ],
   "source": [
    "!runoak -vv -i sqlite:obo:pato statistics"
   ]
  },
  {
   "cell_type": "code",
   "execution_count": 9,
   "id": "5ffd6065",
   "metadata": {},
   "outputs": [
    {
     "name": "stdout",
     "output_type": "stream",
     "text": [
      "INFO:root:Settings = Settings(impl=None, autosave=False, associations_type=None)\n",
      "DEBUG:matplotlib:matplotlib data path: /home/harry/oakx-grape/.venv/lib/python3.9/site-packages/matplotlib/mpl-data\n",
      "DEBUG:matplotlib:CONFIGDIR=/home/harry/.config/matplotlib\n",
      "DEBUG:matplotlib:interactive is False\n",
      "DEBUG:matplotlib:platform is linux\n",
      "DEBUG:matplotlib:CACHEDIR=/home/harry/.cache/matplotlib\n",
      "DEBUG:matplotlib.font_manager:Using fontManager instance from /home/harry/.cache/matplotlib/fontlist-v330.json\n",
      "INFO:root:Ensmallen is using Haswell\n",
      "IndexError: list index out of range\n"
     ]
    }
   ],
   "source": [
    "!runoak -vv -i sqlite:obo:pato statistics"
   ]
  },
  {
   "cell_type": "code",
   "execution_count": 10,
   "id": "3c50753d",
   "metadata": {},
   "outputs": [
    {
     "name": "stdout",
     "output_type": "stream",
     "text": [
      "/home/harry/oakx-grape/.venv/bin/runoak\r\n"
     ]
    }
   ],
   "source": [
    "!which runoak"
   ]
  },
  {
   "cell_type": "code",
   "execution_count": null,
   "id": "ef954ef3",
   "metadata": {},
   "outputs": [],
   "source": []
  }
 ],
 "metadata": {
  "kernelspec": {
   "display_name": "Python 3 (ipykernel)",
   "language": "python",
   "name": "python3"
  },
  "language_info": {
   "codemirror_mode": {
    "name": "ipython",
    "version": 3
   },
   "file_extension": ".py",
   "mimetype": "text/x-python",
   "name": "python",
   "nbconvert_exporter": "python",
   "pygments_lexer": "ipython3",
   "version": "3.9.15"
  }
 },
 "nbformat": 4,
 "nbformat_minor": 5
}
